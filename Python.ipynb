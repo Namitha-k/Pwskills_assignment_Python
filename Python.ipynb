{
 "cells": [
  {
   "cell_type": "markdown",
   "metadata": {},
   "source": [
    "1. Key Features of Python that Make It a Popular Choice for Programming\n",
    "\n",
    "Python is a versatile, high-level programming language that has become one of the most popular choices for developers. Some of its key features include:\n",
    "\n",
    "* Easy to Learn and Use: Python’s syntax is simple and easy to understand, making it beginner-friendly. The code is close to human-readable English, which reduces the complexity of programming.\n",
    "\n",
    "* Interpreted Language: Python is an interpreted language, meaning that code is executed line by line. This makes debugging easier and allows for rapid development.\n",
    "\n",
    "* Cross-Platform: Python is platform-independent, meaning code written in Python can run on any operating system (Windows, Linux, macOS) without requiring modifications.\n",
    "\n",
    "* Rich Standard Library: Python has an extensive standard library that includes modules for file I/O, regular expressions, networking, databases, and more, reducing the need to write additional code.\n",
    "\n",
    "* Dynamic Typing: Variables in Python do not require explicit declaration of types, making the language more flexible and easier to use.\n",
    "\n",
    "* Object-Oriented: Python supports object-oriented programming (OOP), which allows for easier code organization, inheritance, and modularity.\n",
    "\n",
    "* Community Support: Python has a large and active community, offering numerous libraries, frameworks (e.g., Django, Flask), and tools that simplify development."
   ]
  },
  {
   "cell_type": "markdown",
   "metadata": {},
   "source": [
    "2. Role of Predefined Keywords in Python\n",
    "\n",
    "In Python, predefined keywords are reserved words that have special meanings and cannot be used as identifiers (such as variable or function names). These keywords are part of Python’s syntax and help define the structure of the language.\n",
    "\n",
    "Examples of Predefined Keywords in Python:\n",
    "\n",
    "* if: Used for conditional statements.\n",
    "* else: Defines an alternate block of code in conditional statements.\n",
    "* for: Used to create a loop that iterates over a sequence.\n",
    "* while: Starts a loop that runs as long as a condition is true.\n",
    "* def: Used to define a function.\n",
    "* class: Used to define a class.\n",
    "* return: Exits a function and returns a value.\n",
    "* import: Allows the importing of modules."
   ]
  },
  {
   "cell_type": "code",
   "execution_count": 1,
   "metadata": {},
   "outputs": [
    {
     "name": "stdout",
     "output_type": "stream",
     "text": [
      "You are an adult.\n"
     ]
    }
   ],
   "source": [
    "def check_age(age):\n",
    "    if age >= 18:\n",
    "        print(\"You are an adult.\")\n",
    "    else:\n",
    "        print(\"You are a minor.\")\n",
    "\n",
    "check_age(20)\n"
   ]
  },
  {
   "cell_type": "markdown",
   "metadata": {},
   "source": [
    "3. Mutable vs Immutable Objects in Python\n",
    "\n",
    "In Python, objects can either be mutable or immutable, depending on whether their state or value can be changed after they are created.\n",
    "\n",
    "Mutable Objects: These are objects whose state or value can be changed after they are created. Examples of mutable objects include lists, dictionaries, and sets.\n",
    "\n",
    "Example of Mutable Object:"
   ]
  },
  {
   "cell_type": "code",
   "execution_count": null,
   "metadata": {},
   "outputs": [
    {
     "name": "stdout",
     "output_type": "stream",
     "text": [
      "[10, 2, 3]\n"
     ]
    }
   ],
   "source": [
    "my_list = [1, 2, 3]\n",
    "my_list[0] = 10  # Modifying the list\n",
    "print(my_list)   \n"
   ]
  },
  {
   "cell_type": "markdown",
   "metadata": {},
   "source": [
    "Immutable Objects: These are objects whose state or value cannot be changed once they are created. Examples of immutable objects include strings, tuples, and numbers.\n",
    "\n",
    "Example of Immutable Object:"
   ]
  },
  {
   "cell_type": "code",
   "execution_count": 3,
   "metadata": {},
   "outputs": [
    {
     "ename": "TypeError",
     "evalue": "'str' object does not support item assignment",
     "output_type": "error",
     "traceback": [
      "\u001b[1;31m---------------------------------------------------------------------------\u001b[0m",
      "\u001b[1;31mTypeError\u001b[0m                                 Traceback (most recent call last)",
      "Cell \u001b[1;32mIn[3], line 2\u001b[0m\n\u001b[0;32m      1\u001b[0m my_string \u001b[38;5;241m=\u001b[39m \u001b[38;5;124m\"\u001b[39m\u001b[38;5;124mHello\u001b[39m\u001b[38;5;124m\"\u001b[39m\n\u001b[1;32m----> 2\u001b[0m \u001b[43mmy_string\u001b[49m\u001b[43m[\u001b[49m\u001b[38;5;241;43m0\u001b[39;49m\u001b[43m]\u001b[49m \u001b[38;5;241m=\u001b[39m \u001b[38;5;124m\"\u001b[39m\u001b[38;5;124mh\u001b[39m\u001b[38;5;124m\"\u001b[39m  \u001b[38;5;66;03m# This will raise an error as strings are immutable\u001b[39;00m\n",
      "\u001b[1;31mTypeError\u001b[0m: 'str' object does not support item assignment"
     ]
    }
   ],
   "source": [
    "my_string = \"Hello\"\n",
    "my_string[0] = \"h\"  # This will raise an error as strings are immutable\n"
   ]
  },
  {
   "cell_type": "markdown",
   "metadata": {},
   "source": [
    "4. Different Types of Operators in Python\n",
    "\n",
    "Python supports various types of operators, which perform different operations. Here are the main types:\n",
    "\n",
    "Arithmetic Operators: Used to perform basic arithmetic operations.\n",
    "\n",
    "+: Addition\n",
    "\n",
    "-: Subtraction\n",
    "\n",
    "*: Multiplication\n",
    "\n",
    "/: Division (returns float)\n",
    "\n",
    "//: Floor Division (returns integer)\n",
    "\n",
    "%: Modulus (remainder)\n",
    "\n",
    "**: Exponentiation\n",
    "\n",
    "Example:"
   ]
  },
  {
   "cell_type": "code",
   "execution_count": 4,
   "metadata": {},
   "outputs": [
    {
     "name": "stdout",
     "output_type": "stream",
     "text": [
      "7\n",
      "2\n"
     ]
    }
   ],
   "source": [
    "a = 5\n",
    "b = 2\n",
    "print(a + b)  \n",
    "print(a // b)  \n"
   ]
  },
  {
   "cell_type": "markdown",
   "metadata": {},
   "source": [
    "Comparison Operators: Used to compare values.\n",
    "\n",
    "==: Equal to\n",
    "\n",
    "!=: Not equal to\n",
    "\n",
    ">: Greater than\n",
    "\n",
    "<: Less than\n",
    "\n",
    ">=: Greater than or equal to\n",
    "\n",
    "<=: Less than or equal to\n",
    "\n",
    "Example:"
   ]
  },
  {
   "cell_type": "code",
   "execution_count": 5,
   "metadata": {},
   "outputs": [
    {
     "name": "stdout",
     "output_type": "stream",
     "text": [
      "False\n"
     ]
    }
   ],
   "source": [
    "a = 10\n",
    "b = 20\n",
    "print(a == b)  \n"
   ]
  },
  {
   "cell_type": "markdown",
   "metadata": {},
   "source": [
    "Logical Operators: Used to combine conditional statements.\n",
    "\n",
    "and: Returns True if both operands are True.\n",
    "\n",
    "or: Returns True if at least one operand is True.\n",
    "\n",
    "not: Returns True if the operand is False.\n",
    "\n",
    "Example:"
   ]
  },
  {
   "cell_type": "code",
   "execution_count": 6,
   "metadata": {},
   "outputs": [
    {
     "name": "stdout",
     "output_type": "stream",
     "text": [
      "False\n"
     ]
    }
   ],
   "source": [
    "a = True\n",
    "b = False\n",
    "print(a and b)  "
   ]
  },
  {
   "cell_type": "markdown",
   "metadata": {},
   "source": [
    "Assignment Operators: Used to assign values to variables.\n",
    "\n",
    "=: Simple assignment\n",
    "\n",
    "+=: Addition assignment\n",
    "\n",
    "-=: Subtraction assignment\n",
    "\n",
    "Example:"
   ]
  },
  {
   "cell_type": "code",
   "execution_count": 7,
   "metadata": {},
   "outputs": [
    {
     "name": "stdout",
     "output_type": "stream",
     "text": [
      "8\n"
     ]
    }
   ],
   "source": [
    "a = 5\n",
    "a += 3  \n",
    "print(a)\n"
   ]
  },
  {
   "cell_type": "markdown",
   "metadata": {},
   "source": [
    "Membership Operators: Used to test if a value is found in a sequence.\n",
    "\n",
    "in: Checks if a value exists in a sequence.\n",
    "\n",
    "not in: Checks if a value does not exist in a sequence.\n",
    "\n",
    "Example:"
   ]
  },
  {
   "cell_type": "code",
   "execution_count": 8,
   "metadata": {},
   "outputs": [
    {
     "name": "stdout",
     "output_type": "stream",
     "text": [
      "True\n"
     ]
    }
   ],
   "source": [
    "a = [1, 2, 3]\n",
    "print(2 in a)  \n"
   ]
  },
  {
   "cell_type": "markdown",
   "metadata": {},
   "source": [
    "Identity Operators: Used to compare the memory locations of two objects.\n",
    "\n",
    "is: Checks if two variables point to the same object.\n",
    "\n",
    "is not: Checks if two variables do not point to the same object."
   ]
  },
  {
   "cell_type": "markdown",
   "metadata": {},
   "source": [
    "5. Concept of Type Casting in Python\n",
    "\n",
    "Type casting is the process of converting one data type to another. Python allows two types of type casting:\n",
    "\n",
    "Implicit Casting (Automatic Type Conversion): Python automatically converts one data type to another if no data is lost.\n",
    "\n",
    "Example:"
   ]
  },
  {
   "cell_type": "code",
   "execution_count": 9,
   "metadata": {},
   "outputs": [
    {
     "name": "stdout",
     "output_type": "stream",
     "text": [
      "12.5\n"
     ]
    }
   ],
   "source": [
    "x = 10    # Integer\n",
    "y = 2.5   # Float\n",
    "z = x + y  # Implicit casting: x is automatically converted to float\n",
    "print(z)  #\n"
   ]
  },
  {
   "cell_type": "markdown",
   "metadata": {},
   "source": [
    "Explicit Casting (Manual Type Conversion): The programmer explicitly converts one data type to another using the int(), float(), str(), etc.\n",
    "\n",
    "Example:"
   ]
  },
  {
   "cell_type": "code",
   "execution_count": 10,
   "metadata": {},
   "outputs": [
    {
     "name": "stdout",
     "output_type": "stream",
     "text": [
      "25\n"
     ]
    }
   ],
   "source": [
    "x = \"25\"\n",
    "y = int(x)  # Explicit casting from string to integer\n",
    "print(y)  \n"
   ]
  },
  {
   "cell_type": "markdown",
   "metadata": {},
   "source": [
    "6. How Conditional Statements Work in Python\n",
    "\n",
    "Conditional statements in Python allow the program to execute certain blocks of code based on whether a condition is True or False. The primary conditional statements are if, elif, and else.\n",
    "\n",
    "if: Tests a condition and executes the block of code if the condition is True.\n",
    "\n",
    "elif: (Else If) Tests another condition if the previous if or elif conditions were False.\n",
    "\n",
    "else: Executes a block of code if all the previous conditions are False.\n",
    "\n",
    "Example:"
   ]
  },
  {
   "cell_type": "code",
   "execution_count": 11,
   "metadata": {},
   "outputs": [
    {
     "name": "stdout",
     "output_type": "stream",
     "text": [
      "You are an adult.\n"
     ]
    }
   ],
   "source": [
    "age = 20\n",
    "\n",
    "if age >= 18:\n",
    "    print(\"You are an adult.\")\n",
    "elif age < 18 and age >= 13:\n",
    "    print(\"You are a teenager.\")\n",
    "else:\n",
    "    print(\"You are a child.\")\n"
   ]
  },
  {
   "cell_type": "markdown",
   "metadata": {},
   "source": [
    "7. Different Types of Loops in Python and Their Use Cases\n",
    "\n",
    "Python supports two types of loops: for loops and while loops.\n",
    "\n",
    "for loop: Iterates over a sequence (such as a list, tuple, or range) and executes a block of code for each element.\n",
    "\n",
    "Example:"
   ]
  },
  {
   "cell_type": "code",
   "execution_count": 12,
   "metadata": {},
   "outputs": [
    {
     "name": "stdout",
     "output_type": "stream",
     "text": [
      "apple\n",
      "banana\n",
      "cherry\n"
     ]
    }
   ],
   "source": [
    "fruits = [\"apple\", \"banana\", \"cherry\"]\n",
    "for fruit in fruits:\n",
    "    print(fruit)\n"
   ]
  },
  {
   "cell_type": "markdown",
   "metadata": {},
   "source": [
    "while loop: Repeats a block of code as long as a given condition is True.\n",
    "\n",
    "Example:\n"
   ]
  },
  {
   "cell_type": "code",
   "execution_count": 13,
   "metadata": {},
   "outputs": [
    {
     "name": "stdout",
     "output_type": "stream",
     "text": [
      "0\n",
      "1\n",
      "2\n",
      "3\n",
      "4\n"
     ]
    }
   ],
   "source": [
    "count = 0\n",
    "while count < 5:\n",
    "    print(count)\n",
    "    count += 1\n"
   ]
  },
  {
   "cell_type": "code",
   "execution_count": null,
   "metadata": {},
   "outputs": [],
   "source": []
  }
 ],
 "metadata": {
  "kernelspec": {
   "display_name": "Python 3",
   "language": "python",
   "name": "python3"
  },
  "language_info": {
   "codemirror_mode": {
    "name": "ipython",
    "version": 3
   },
   "file_extension": ".py",
   "mimetype": "text/x-python",
   "name": "python",
   "nbconvert_exporter": "python",
   "pygments_lexer": "ipython3",
   "version": "3.10.4"
  }
 },
 "nbformat": 4,
 "nbformat_minor": 2
}
