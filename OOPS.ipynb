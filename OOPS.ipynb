{
 "cells": [
  {
   "cell_type": "markdown",
   "metadata": {},
   "source": [
    "1. Five Key Concepts of Object-Oriented Programming (OOP):\n",
    "\n",
    "The five key concepts of OOP are:\n",
    "\n",
    "* Encapsulation: Bundling the data (attributes) and methods that operate on the data into a single unit or class.\n",
    "* Abstraction: Hiding the complex implementation details and showing only the necessary features of an object.\n",
    "* Inheritance: A mechanism to create a new class from an existing class, inheriting its attributes and methods.\n",
    "* Polymorphism: The ability to use a single interface to represent different underlying forms (methods or objects).\n",
    "* Association: The relationship between two objects where one object is linked to another."
   ]
  },
  {
   "cell_type": "markdown",
   "metadata": {},
   "source": [
    "2. Write a Python class for a `Car` with attributes for `make`, `model`, and `year`. Include a method to display\n",
    "the car's information."
   ]
  },
  {
   "cell_type": "code",
   "execution_count": null,
   "metadata": {},
   "outputs": [
    {
     "name": "stdout",
     "output_type": "stream",
     "text": [
      "Car Make: Ford, Model: Mustang, Year: 2020\n"
     ]
    }
   ],
   "source": [
    "class Car:\n",
    "    def __init__(self, make, model, year):\n",
    "        self.make = make   # Car's make (e.g., Ford, BMW)\n",
    "        self.model = model # Car's model (e.g., Mustang, X5)\n",
    "        self.year = year   # Year of manufacturing\n",
    "\n",
    "    def display_info(self):\n",
    "        print(f\"Car Make: {self.make}, Model: {self.model}, Year: {self.year}\")\n",
    "\n",
    "\n",
    "car1 = Car(\"Ford\", \"Mustang\", 2020)\n",
    "car1.display_info()  \n"
   ]
  },
  {
   "cell_type": "markdown",
   "metadata": {},
   "source": [
    "3. Explain the difference between instance methods and class methods. Provide an example of each."
   ]
  },
  {
   "cell_type": "code",
   "execution_count": null,
   "metadata": {},
   "outputs": [
    {
     "name": "stdout",
     "output_type": "stream",
     "text": [
      "This is an instance method.\n",
      "This is a class method.\n",
      "Class variable: I am a class variable\n"
     ]
    }
   ],
   "source": [
    "class MyClass:\n",
    "    class_variable = \"I am a class variable\"\n",
    "\n",
    "    def instance_method(self):\n",
    "        print(\"This is an instance method.\")\n",
    "    \n",
    "    @classmethod\n",
    "    def class_method(cls):\n",
    "        print(\"This is a class method.\")\n",
    "        print(f\"Class variable: {cls.class_variable}\")\n",
    "\n",
    "\n",
    "obj = MyClass()\n",
    "obj.instance_method()  # Instance method called\n",
    "obj.class_method()     # Class method called\n"
   ]
  },
  {
   "cell_type": "markdown",
   "metadata": {},
   "source": [
    "4. How does Python implement method overloading? Give an example."
   ]
  },
  {
   "cell_type": "code",
   "execution_count": null,
   "metadata": {},
   "outputs": [
    {
     "name": "stdout",
     "output_type": "stream",
     "text": [
      "2\n",
      "5\n",
      "9\n"
     ]
    }
   ],
   "source": [
    "class Calculator:\n",
    "    def add(self, a, b=0, c=0):  # Default arguments\n",
    "        return a + b + c\n",
    "\n",
    "calc = Calculator()\n",
    "print(calc.add(2))           \n",
    "print(calc.add(2, 3))        \n",
    "print(calc.add(2, 3, 4))     \n"
   ]
  },
  {
   "cell_type": "markdown",
   "metadata": {},
   "source": [
    "5. What are the three types of access modifiers in Python? How are they denoted?"
   ]
  },
  {
   "cell_type": "code",
   "execution_count": null,
   "metadata": {},
   "outputs": [
    {
     "name": "stdout",
     "output_type": "stream",
     "text": [
      "I am public\n",
      "I am protected\n"
     ]
    }
   ],
   "source": [
    "class Example:\n",
    "    public_var = \"I am public\"\n",
    "    _protected_var = \"I am protected\"\n",
    "    __private_var = \"I am private\"\n",
    "\n",
    "\n",
    "obj = Example()\n",
    "print(obj.public_var)      \n",
    "print(obj._protected_var)  \n",
    "\n"
   ]
  },
  {
   "cell_type": "markdown",
   "metadata": {},
   "source": [
    "6. Describe the five types of inheritance in Python. Provide a simple example of multiple inheritance."
   ]
  },
  {
   "cell_type": "code",
   "execution_count": null,
   "metadata": {},
   "outputs": [
    {
     "name": "stdout",
     "output_type": "stream",
     "text": [
      "Engine started\n",
      "Wheels moving\n"
     ]
    }
   ],
   "source": [
    "class Engine:\n",
    "    def start(self):\n",
    "        print(\"Engine started\")\n",
    "\n",
    "class Wheels:\n",
    "    def move(self):\n",
    "        print(\"Wheels moving\")\n",
    "\n",
    "class Car(Engine, Wheels):\n",
    "    def drive(self):\n",
    "        self.start()\n",
    "        self.move()\n",
    "\n",
    "\n",
    "car = Car()\n",
    "car.drive()  \n"
   ]
  },
  {
   "cell_type": "markdown",
   "metadata": {},
   "source": [
    "7. What is the Method Resolution Order (MRO) in Python? How can you retrieve it programmatically?"
   ]
  },
  {
   "cell_type": "code",
   "execution_count": null,
   "metadata": {},
   "outputs": [
    {
     "name": "stdout",
     "output_type": "stream",
     "text": [
      "[<class '__main__.D'>, <class '__main__.B'>, <class '__main__.C'>, <class '__main__.A'>, <class 'object'>]\n"
     ]
    }
   ],
   "source": [
    "class A:\n",
    "    pass\n",
    "\n",
    "class B(A):\n",
    "    pass\n",
    "\n",
    "class C(A):\n",
    "    pass\n",
    "\n",
    "class D(B, C):\n",
    "    pass\n",
    "\n",
    "\n",
    "print(D.mro())  \n"
   ]
  },
  {
   "cell_type": "markdown",
   "metadata": {},
   "source": [
    "8. Create an abstract base class `Shape` with an abstract method `area()`. Then create two subclasses\n",
    "`Circle` and `Rectangle` that implement the `area()` method."
   ]
  },
  {
   "cell_type": "code",
   "execution_count": null,
   "metadata": {},
   "outputs": [
    {
     "name": "stdout",
     "output_type": "stream",
     "text": [
      "Circle area: 78.53981633974483\n",
      "Rectangle area: 24\n"
     ]
    }
   ],
   "source": [
    "from abc import ABC, abstractmethod\n",
    "import math\n",
    "\n",
    "class Shape(ABC):\n",
    "    @abstractmethod\n",
    "    def area(self):\n",
    "        pass\n",
    "\n",
    "class Circle(Shape):\n",
    "    def __init__(self, radius):\n",
    "        self.radius = radius\n",
    "\n",
    "    def area(self):\n",
    "        return math.pi * (self.radius ** 2)\n",
    "\n",
    "class Rectangle(Shape):\n",
    "    def __init__(self, length, width):\n",
    "        self.length = length\n",
    "        self.width = width\n",
    "\n",
    "    def area(self):\n",
    "        return self.length * self.width\n",
    "\n",
    "\n",
    "circle = Circle(5)\n",
    "rectangle = Rectangle(4, 6)\n",
    "print(f\"Circle area: {circle.area()}\")        \n",
    "print(f\"Rectangle area: {rectangle.area()}\")  \n"
   ]
  },
  {
   "cell_type": "markdown",
   "metadata": {},
   "source": [
    "9. Demonstrate polymorphism by creating a function that can work with different shape objects to calculate\n",
    "and print their areas."
   ]
  },
  {
   "cell_type": "code",
   "execution_count": null,
   "metadata": {},
   "outputs": [
    {
     "name": "stdout",
     "output_type": "stream",
     "text": [
      "Area: 78.53981633974483\n",
      "Area: 24\n"
     ]
    }
   ],
   "source": [
    "def print_area(shape):\n",
    "    print(f\"Area: {shape.area()}\")\n",
    "\n",
    "\n",
    "circle = Circle(5)\n",
    "rectangle = Rectangle(4, 6)\n",
    "print_area(circle)      \n",
    "print_area(rectangle)   \n"
   ]
  },
  {
   "cell_type": "markdown",
   "metadata": {},
   "source": [
    "10. Implement encapsulation in a `BankAccount` class with private attributes for `balance` and\n",
    "`account_number`. Include methods for deposit, withdrawal, and balance inquiry."
   ]
  },
  {
   "cell_type": "code",
   "execution_count": null,
   "metadata": {},
   "outputs": [
    {
     "name": "stdout",
     "output_type": "stream",
     "text": [
      "Deposited 500, New balance: 1500\n",
      "Withdrew 200, New balance: 1300\n",
      "Current balance: 1300\n"
     ]
    }
   ],
   "source": [
    "class BankAccount:\n",
    "    def __init__(self, account_number, balance):\n",
    "        self.__account_number = account_number\n",
    "        self.__balance = balance\n",
    "\n",
    "    def deposit(self, amount):\n",
    "        if amount > 0:\n",
    "            self.__balance += amount\n",
    "            print(f\"Deposited {amount}, New balance: {self.__balance}\")\n",
    "    \n",
    "    def withdraw(self, amount):\n",
    "        if 0 < amount <= self.__balance:\n",
    "            self.__balance -= amount\n",
    "            print(f\"Withdrew {amount}, New balance: {self.__balance}\")\n",
    "        else:\n",
    "            print(\"Insufficient funds or invalid amount\")\n",
    "    \n",
    "    def check_balance(self):\n",
    "        print(f\"Current balance: {self.__balance}\")\n",
    "\n",
    "\n",
    "account = BankAccount(\"123456\", 1000)\n",
    "account.deposit(500)\n",
    "account.withdraw(200)\n",
    "account.check_balance()  \n"
   ]
  },
  {
   "cell_type": "markdown",
   "metadata": {},
   "source": [
    "11. Write a class that overrides the `__str__` and `__add__` magic methods. What will these methods allow\n",
    "you to do?"
   ]
  },
  {
   "cell_type": "code",
   "execution_count": null,
   "metadata": {},
   "outputs": [
    {
     "name": "stdout",
     "output_type": "stream",
     "text": [
      "MyNumber: 5\n",
      "MyNumber: 15\n"
     ]
    }
   ],
   "source": [
    "class MyNumber:\n",
    "    def __init__(self, value):\n",
    "        self.value = value\n",
    "    \n",
    "    def __str__(self):\n",
    "        return f\"MyNumber: {self.value}\"\n",
    "    \n",
    "    def __add__(self, other):\n",
    "        return MyNumber(self.value + other.value)\n",
    "\n",
    "\n",
    "num1 = MyNumber(5)\n",
    "num2 = MyNumber(10)\n",
    "print(num1)            \n",
    "num3 = num1 + num2\n",
    "print(num3)            \n"
   ]
  },
  {
   "cell_type": "markdown",
   "metadata": {},
   "source": [
    "12. Create a decorator that measures and prints the execution time of a function."
   ]
  },
  {
   "cell_type": "code",
   "execution_count": null,
   "metadata": {},
   "outputs": [
    {
     "name": "stdout",
     "output_type": "stream",
     "text": [
      "Execution time: 2.0073306560516357 seconds\n"
     ]
    }
   ],
   "source": [
    "import time\n",
    "\n",
    "def measure_time(func):\n",
    "    def wrapper(*args, **kwargs):\n",
    "        start_time = time.time()\n",
    "        result = func(*args, **kwargs)\n",
    "        end_time = time.time()\n",
    "        print(f\"Execution time: {end_time - start_time} seconds\")\n",
    "        return result\n",
    "    return wrapper\n",
    "\n",
    "@measure_time\n",
    "def slow_function():\n",
    "    time.sleep(2)  # Simulating a delay\n",
    "\n",
    "\n",
    "slow_function()  "
   ]
  },
  {
   "cell_type": "markdown",
   "metadata": {},
   "source": [
    "13. Explain the concept of the Diamond Problem in multiple inheritance. How does Python resolve it?"
   ]
  },
  {
   "cell_type": "code",
   "execution_count": null,
   "metadata": {},
   "outputs": [
    {
     "name": "stdout",
     "output_type": "stream",
     "text": [
      "Method in B\n"
     ]
    }
   ],
   "source": [
    "class A:\n",
    "    def method(self):\n",
    "        print(\"Method in A\")\n",
    "\n",
    "class B(A):\n",
    "    def method(self):\n",
    "        print(\"Method in B\")\n",
    "\n",
    "class C(A):\n",
    "    def method(self):\n",
    "        print(\"Method in C\")\n",
    "\n",
    "class D(B, C):\n",
    "    pass\n",
    "\n",
    "\n",
    "d = D()\n",
    "d.method()  \n"
   ]
  },
  {
   "cell_type": "markdown",
   "metadata": {},
   "source": [
    "14. Write a class method that keeps track of the number of instances created from a class."
   ]
  },
  {
   "cell_type": "code",
   "execution_count": null,
   "metadata": {},
   "outputs": [
    {
     "name": "stdout",
     "output_type": "stream",
     "text": [
      "2\n"
     ]
    }
   ],
   "source": [
    "class MyClass:\n",
    "    instance_count = 0\n",
    "\n",
    "    def __init__(self):\n",
    "        MyClass.instance_count += 1\n",
    "    \n",
    "    @classmethod\n",
    "    def get_instance_count(cls):\n",
    "        return cls.instance_count\n",
    "\n",
    "\n",
    "obj1 = MyClass()\n",
    "obj2 = MyClass()\n",
    "print(MyClass.get_instance_count())  \n"
   ]
  },
  {
   "cell_type": "markdown",
   "metadata": {},
   "source": [
    "15. Implement a static method in a class that checks if a given year is a leap year."
   ]
  },
  {
   "cell_type": "code",
   "execution_count": null,
   "metadata": {},
   "outputs": [
    {
     "name": "stdout",
     "output_type": "stream",
     "text": [
      "True\n"
     ]
    }
   ],
   "source": [
    "class DateUtils:\n",
    "    @staticmethod\n",
    "    def is_leap_year(year):\n",
    "        return (year % 4 == 0 and year % 100 != 0) or (year % 400 == 0)\n",
    "\n",
    "print(DateUtils.is_leap_year(2024))  \n"
   ]
  },
  {
   "cell_type": "code",
   "execution_count": null,
   "metadata": {},
   "outputs": [],
   "source": []
  }
 ],
 "metadata": {
  "kernelspec": {
   "display_name": "Python 3",
   "language": "python",
   "name": "python3"
  },
  "language_info": {
   "codemirror_mode": {
    "name": "ipython",
    "version": 3
   },
   "file_extension": ".py",
   "mimetype": "text/x-python",
   "name": "python",
   "nbconvert_exporter": "python",
   "pygments_lexer": "ipython3",
   "version": "3.10.4"
  }
 },
 "nbformat": 4,
 "nbformat_minor": 2
}
