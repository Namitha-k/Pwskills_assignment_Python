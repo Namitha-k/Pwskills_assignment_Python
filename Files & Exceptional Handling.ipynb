{
 "cells": [
  {
   "cell_type": "markdown",
   "metadata": {},
   "source": [
    "1. Multithreading vs. Multiprocessing\n",
    "\n",
    "Multithreading:\n",
    "\n",
    "Scenario where Multithreading is preferable:\n",
    "\n",
    "I/O-bound tasks: When your program spends time waiting for I/O operations (e.g., reading from a file, making a network request, or interacting with a database), multithreading is effective. This is because threads can run concurrently, allowing other threads to proceed while one thread waits for I/O completion.\n",
    "\n",
    "Shared memory access: Threads share the same memory space, which allows them to easily communicate with each other and share data.\n",
    "\n",
    "Lightweight tasks: If the task involves minimal computation but needs to handle many concurrent operations (such as handling multiple HTTP requests), threads are lightweight compared to processes.\n",
    "\n",
    "\n",
    "Multiprocessing:\n",
    "\n",
    "Scenario where Multiprocessing is preferable:\n",
    "\n",
    "CPU-bound tasks: If your program performs computationally expensive operations (e.g., mathematical computations, data processing), multiprocessing is a better choice. This is because each process runs in its own memory space, and they can be executed on different CPU cores, bypassing Python's Global Interpreter Lock (GIL).\n",
    "\n",
    "Task isolation: Processes do not share memory, which makes them more suitable for tasks that need isolation and do not require sharing a large amount of data."
   ]
  },
  {
   "cell_type": "markdown",
   "metadata": {},
   "source": [
    "2. What is a Process Pool and How it Helps in Managing Multiple Processes Efficiently\n",
    "\n",
    "A process pool is a collection of worker processes that are used to execute tasks concurrently. The primary goal of using a process pool is to efficiently manage multiple processes, reduce the overhead of creating and terminating processes, and distribute work evenly across the workers.\n",
    "\n",
    "How it helps:\n",
    "\n",
    "Resource management: It limits the number of concurrent processes to a set pool size, avoiding resource exhaustion by creating too many processes.\n",
    "\n",
    "Task delegation: You submit tasks to the pool, which then assigns those tasks to available processes.\n",
    "\n",
    "Reusing processes: Once a process completes a task, it can be reused for other tasks, reducing the overhead of process creation.\n",
    "\n",
    "The multiprocessing.Pool class in Python is commonly used for managing process pools.\n"
   ]
  },
  {
   "cell_type": "markdown",
   "metadata": {},
   "source": [
    "3. What is Multiprocessing and Why It Is Used in Python Programs\n",
    "\n",
    "Multiprocessing refers to the concurrent execution of multiple processes, each of which runs independently with its own memory space and resources. In Python, this is facilitated by the multiprocessing module.\n",
    "\n",
    "Why it's used:\n",
    "\n",
    "CPU-bound tasks: Python’s Global Interpreter Lock (GIL) prevents multiple threads from executing Python bytecode simultaneously. However, multiple processes can run concurrently on multiple CPU cores, allowing CPU-bound tasks to be parallelized and executed faster.\n",
    "\n",
    "Better performance on multi-core systems: By leveraging multiple processes on different CPU cores, multiprocessing can take full advantage of multi-core CPUs and improve performance for CPU-heavy tasks like computations, simulations, and data processing.\n",
    "\n",
    "Isolation: Processes run in separate memory spaces, providing better isolation and safety from errors in other processes."
   ]
  },
  {
   "cell_type": "markdown",
   "metadata": {},
   "source": [
    "4. Python Program Using Multithreading with Lock to Avoid Race Conditions"
   ]
  },
  {
   "cell_type": "code",
   "execution_count": 1,
   "metadata": {},
   "outputs": [
    {
     "name": "stdout",
     "output_type": "stream",
     "text": [
      "Added: 1\n",
      "Added: 2\n",
      "Removed: 1\n",
      "Added: 3\n",
      "Added: 4\n",
      "Removed: 2\n",
      "Added: 5\n",
      "Removed: 3\n",
      "Removed: 4\n",
      "Removed: 5\n",
      "Final list: []\n"
     ]
    }
   ],
   "source": [
    "import threading\n",
    "import time\n",
    "\n",
    "# Shared data structure\n",
    "shared_list = []\n",
    "lock = threading.Lock()\n",
    "\n",
    "# Function to add numbers to the list\n",
    "def add_numbers():\n",
    "    for i in range(1, 6):\n",
    "        with lock:\n",
    "            shared_list.append(i)\n",
    "            print(f\"Added: {i}\")\n",
    "        time.sleep(1)\n",
    "\n",
    "# Function to remove numbers from the list\n",
    "def remove_numbers():\n",
    "    for _ in range(5):\n",
    "        time.sleep(2)  # Wait for numbers to be added\n",
    "        with lock:\n",
    "            if shared_list:\n",
    "                removed = shared_list.pop(0)\n",
    "                print(f\"Removed: {removed}\")\n",
    "\n",
    "# Creating threads\n",
    "thread1 = threading.Thread(target=add_numbers)\n",
    "thread2 = threading.Thread(target=remove_numbers)\n",
    "\n",
    "# Starting threads\n",
    "thread1.start()\n",
    "thread2.start()\n",
    "\n",
    "# Wait for threads to finish\n",
    "thread1.join()\n",
    "thread2.join()\n",
    "\n",
    "print(\"Final list:\", shared_list)\n"
   ]
  },
  {
   "cell_type": "markdown",
   "metadata": {},
   "source": [
    "5. Methods and Tools for Safely Sharing Data Between Threads and Processes in Python\n",
    "\n",
    "In Python, the threading and multiprocessing modules provide tools for safely sharing data between threads and processes.\n",
    "\n",
    "For Threads:\n",
    "\n",
    "threading.Lock: Ensures that only one thread can access a critical section of code at a time.\n",
    "\n",
    "threading.Semaphore: Limits the number of threads that can access a resource concurrently.\n",
    "\n",
    "queue.Queue: A thread-safe FIFO queue that allows multiple threads to safely exchange data.\n",
    "\n",
    "For Processes:\n",
    "\n",
    "multiprocessing.Queue: A process-safe queue for sharing data between processes.\n",
    "\n",
    "multiprocessing.Value and multiprocessing.Array: Used for sharing simple data (like integers and floats) or arrays between processes in a safe manner.\n",
    "\n",
    "multiprocessing.Manager: Allows sharing of Python objects (like lists, dictionaries, etc.) between processes."
   ]
  },
  {
   "cell_type": "code",
   "execution_count": 2,
   "metadata": {},
   "outputs": [
    {
     "name": "stdout",
     "output_type": "stream",
     "text": [
      "Consumed: 0\n",
      "Consumed: 1\n",
      "Consumed: 2\n",
      "Consumed: 3\n",
      "Consumed: 4\n"
     ]
    }
   ],
   "source": [
    "import threading\n",
    "import queue\n",
    "\n",
    "q = queue.Queue()\n",
    "\n",
    "def producer():\n",
    "    for i in range(5):\n",
    "        q.put(i)\n",
    "\n",
    "def consumer():\n",
    "    while not q.empty():\n",
    "        print(f\"Consumed: {q.get()}\")\n",
    "\n",
    "# Threads\n",
    "t1 = threading.Thread(target=producer)\n",
    "t2 = threading.Thread(target=consumer)\n",
    "\n",
    "t1.start()\n",
    "t2.start()\n",
    "\n",
    "t1.join()\n",
    "t2.join()\n"
   ]
  },
  {
   "cell_type": "markdown",
   "metadata": {},
   "source": [
    "6. Why Handling Exceptions in Concurrent Programs is Crucial and Techniques\n",
    "\n",
    "Handling exceptions in concurrent programs is critical because uncaught exceptions in threads or processes can lead to incomplete operations, inconsistent data, or program crashes.\n",
    "\n",
    "Why it's crucial:\n",
    "\n",
    "Thread/Process failure: If one thread or process encounters an error, it can potentially affect other threads or processes, leading to unpredictable behavior.\n",
    "\n",
    "Data integrity: Exceptions may leave shared resources in an inconsistent state, which can lead to further errors.\n",
    "\n",
    "Resource leaks: Uncaught exceptions can lead to resource leaks such as file handles or network connections that were not closed properly.\n",
    "\n",
    "Techniques for handling exceptions:\n",
    "\n",
    "Use try...except blocks in threads or processes to handle errors gracefully.\n",
    "\n",
    "Ensure that critical resources are properly cleaned up in the finally block.\n",
    "\n",
    "For multiprocessing, use the Pool.apply_async method to catch exceptions in a non-blocking way."
   ]
  },
  {
   "cell_type": "markdown",
   "metadata": {},
   "source": [
    "7. Python Program Using Thread Pool to Calculate Factorial of Numbers"
   ]
  },
  {
   "cell_type": "code",
   "execution_count": 3,
   "metadata": {},
   "outputs": [
    {
     "name": "stdout",
     "output_type": "stream",
     "text": [
      "[1, 2, 6, 24, 120, 720, 5040, 40320, 362880, 3628800]\n"
     ]
    }
   ],
   "source": [
    "from concurrent.futures import ThreadPoolExecutor\n",
    "\n",
    "def factorial(n):\n",
    "    if n == 0:\n",
    "        return 1\n",
    "    return n * factorial(n - 1)\n",
    "\n",
    "# Using ThreadPoolExecutor to calculate factorials concurrently\n",
    "with ThreadPoolExecutor(max_workers=4) as executor:\n",
    "    results = list(executor.map(factorial, range(1, 11)))\n",
    "\n",
    "print(results)\n"
   ]
  },
  {
   "cell_type": "markdown",
   "metadata": {},
   "source": [
    "8. Python Program Using multiprocessing.Pool to Compute Squares in Parallel"
   ]
  },
  {
   "cell_type": "code",
   "execution_count": null,
   "metadata": {},
   "outputs": [],
   "source": [
    "import multiprocessing\n",
    "import time\n",
    "\n",
    "def square(n):\n",
    "    return n ** 2\n",
    "\n",
    "def calculate_squares(pool_size):\n",
    "    with multiprocessing.Pool(pool_size) as pool:\n",
    "        result = pool.map(square, range(1, 11))\n",
    "    return result\n",
    "\n",
    "# Measure time taken for different pool sizes\n",
    "for pool_size in [2, 4, 8]:\n",
    "    start_time = time.time()\n",
    "    print(f\"Using pool size {pool_size}: {calculate_squares(pool_size)}\")\n",
    "    print(f\"Time taken: {time.time() - start_time} seconds\")\n"
   ]
  },
  {
   "cell_type": "code",
   "execution_count": null,
   "metadata": {},
   "outputs": [],
   "source": [
    "import multiprocessing\n",
    "import time\n",
    "\n",
    "# Function to compute the square of a number\n",
    "def square(n):\n",
    "    if n == 5:  # Intentional exception for demonstration\n",
    "        raise ValueError(\"Error while computing square for 5\")\n",
    "    return n ** 2\n",
    "\n",
    "# Function to calculate squares using multiprocessing Pool\n",
    "def calculate_squares(pool_size):\n",
    "    with multiprocessing.Pool(pool_size) as pool:\n",
    "        try:\n",
    "            # Using pool.map to distribute work across processes\n",
    "            result = pool.map(square, range(1, 11))\n",
    "        except Exception as e:\n",
    "            print(f\"An exception occurred: {e}\")\n",
    "            return None\n",
    "    return result\n",
    "\n",
    "# Main block to measure time taken for different pool sizes\n",
    "if __name__ == \"__main__\":\n",
    "    for pool_size in [2, 4, 8]:\n",
    "        start_time = time.time()\n",
    "        print(f\"Using pool size {pool_size}:\")\n",
    "\n",
    "        # Call function to calculate squares\n",
    "        result = calculate_squares(pool_size)\n",
    "\n",
    "        if result is not None:\n",
    "            print(f\"Squares: {result}\")\n",
    "        else:\n",
    "            print(\"Failed to compute squares due to an exception.\")\n",
    "\n",
    "        print(f\"Time taken: {time.time() - start_time} seconds\\n\")\n"
   ]
  },
  {
   "cell_type": "code",
   "execution_count": null,
   "metadata": {},
   "outputs": [],
   "source": []
  }
 ],
 "metadata": {
  "kernelspec": {
   "display_name": "Python 3",
   "language": "python",
   "name": "python3"
  },
  "language_info": {
   "codemirror_mode": {
    "name": "ipython",
    "version": 3
   },
   "file_extension": ".py",
   "mimetype": "text/x-python",
   "name": "python",
   "nbconvert_exporter": "python",
   "pygments_lexer": "ipython3",
   "version": "3.10.4"
  }
 },
 "nbformat": 4,
 "nbformat_minor": 2
}
